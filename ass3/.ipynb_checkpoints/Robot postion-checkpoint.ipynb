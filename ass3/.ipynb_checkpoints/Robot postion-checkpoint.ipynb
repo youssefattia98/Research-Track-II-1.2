{
 "cells": [
  {
   "cell_type": "code",
   "execution_count": 5,
   "id": "0825ab8a",
   "metadata": {
    "ExecuteTime": {
     "end_time": "2022-05-17T20:05:17.056216Z",
     "start_time": "2022-05-17T20:05:17.032396Z"
    }
   },
   "outputs": [],
   "source": [
    "%matplotlib widget\n",
    "import ipywidgets as widgets\n",
    "from IPython.display import clear_output\n",
    "import jupyros as jr\n",
    "import rospy\n",
    "from std_msgs.msg import String\n",
    "from a3_code.srv import Coordinate_xy    #used in case 1\n",
    "from IPython.display import display\n",
    "from geometry_msgs.msg import Twist, Vector3    #for cmd_vel topic\n",
    "from jupyros import ros3d\n",
    "import os\n",
    "import matplotlib.pyplot as plt\n",
    "import tf\n",
    "from nav_msgs.msg import Odometry\n",
    "from sensor_msgs.msg import LaserScan\n",
    "from tf.transformations import quaternion_matrix\n",
    "import numpy as np\n",
    "from matplotlib.animation import FuncAnimation"
   ]
  },
  {
   "cell_type": "code",
   "execution_count": 6,
   "id": "5cea8a5b",
   "metadata": {
    "ExecuteTime": {
     "end_time": "2022-05-17T20:05:17.777588Z",
     "start_time": "2022-05-17T20:05:17.748923Z"
    }
   },
   "outputs": [],
   "source": [
    "class Visualiser:\n",
    "    index = 0\n",
    "    def __init__(self):\n",
    "        self.fig, self.ax = plt.subplots()\n",
    "        self.ln, = plt.plot([], [], 'g>')\n",
    "        self.x_data, self.y_data = [] , []\n",
    "    def plot_init(self):\n",
    "        self.ax.set_xlim( -10, 10)\n",
    "        self.ax.set_ylim( -10, 10)\n",
    "        return self.ln\n",
    "    def odom_callback(self, msg):\n",
    "        self.index = self.index+1\n",
    "        if self.index == 250:\n",
    "            if len(self.y_data) < 500:\n",
    "                self.y_data.append(msg.pose.pose.position.y)\n",
    "            else:\n",
    "                self.y_data.pop(0)\n",
    "                self.y_data.append(msg.pose.pose.position.y)\n",
    "\n",
    "            if len(self.x_data) < 500:\n",
    "                self.x_data.append(msg.pose.pose.position.x)\n",
    "            else:\n",
    "                self.x_data.pop(0)\n",
    "                self.x_data.append(msg.pose.pose.position.x)\n",
    "            self.index = 0\n",
    "    def update_plot(self, frame):\n",
    "        self.ln.set_data(self.x_data, self.y_data)\n",
    "        return self.ln"
   ]
  },
  {
   "cell_type": "code",
   "execution_count": 7,
   "id": "f92c967c",
   "metadata": {
    "ExecuteTime": {
     "end_time": "2022-05-17T20:05:18.929642Z",
     "start_time": "2022-05-17T20:05:18.915239Z"
    }
   },
   "outputs": [],
   "source": [
    "rospy.init_node('jupyter_user_interface')"
   ]
  },
  {
   "cell_type": "code",
   "execution_count": 8,
   "id": "23c65b9a",
   "metadata": {
    "ExecuteTime": {
     "end_time": "2022-05-17T20:05:20.179575Z",
     "start_time": "2022-05-17T20:05:20.040451Z"
    }
   },
   "outputs": [
    {
     "data": {
      "application/vnd.jupyter.widget-view+json": {
       "model_id": "5cf5e8b0b0b949a19a129ac866d520fb",
       "version_major": 2,
       "version_minor": 0
      },
      "text/plain": [
       "Canvas(toolbar=Toolbar(toolitems=[('Home', 'Reset original view', 'home', 'home'), ('Back', 'Back to previous …"
      ]
     },
     "metadata": {},
     "output_type": "display_data"
    },
    {
     "data": {
      "text/plain": [
       "Text(0.5, 1.0, 'Robot position')"
      ]
     },
     "execution_count": 8,
     "metadata": {},
     "output_type": "execute_result"
    }
   ],
   "source": [
    "vis = Visualiser()\n",
    "sub = rospy.Subscriber('/odom', Odometry, vis.odom_callback)\n",
    "ani = FuncAnimation(vis.fig, vis.update_plot, init_func=vis.plot_init, blit=True)\n",
    "plt.show(block=True)\n",
    "plt.title(\"Robot Motion\")"
   ]
  },
  {
   "cell_type": "code",
   "execution_count": null,
   "id": "20e74b0b",
   "metadata": {},
   "outputs": [],
   "source": []
  }
 ],
 "metadata": {
  "hide_input": false,
  "kernelspec": {
   "display_name": "Python 3 (ipykernel)",
   "language": "python",
   "name": "python3"
  },
  "language_info": {
   "codemirror_mode": {
    "name": "ipython",
    "version": 3
   },
   "file_extension": ".py",
   "mimetype": "text/x-python",
   "name": "python",
   "nbconvert_exporter": "python",
   "pygments_lexer": "ipython3",
   "version": "3.8.10"
  },
  "toc": {
   "base_numbering": 1,
   "nav_menu": {},
   "number_sections": true,
   "sideBar": true,
   "skip_h1_title": false,
   "title_cell": "Table of Contents",
   "title_sidebar": "Contents",
   "toc_cell": false,
   "toc_position": {},
   "toc_section_display": true,
   "toc_window_display": false
  },
  "varInspector": {
   "cols": {
    "lenName": 16,
    "lenType": 16,
    "lenVar": 40
   },
   "kernels_config": {
    "python": {
     "delete_cmd_postfix": "",
     "delete_cmd_prefix": "del ",
     "library": "var_list.py",
     "varRefreshCmd": "print(var_dic_list())"
    },
    "r": {
     "delete_cmd_postfix": ") ",
     "delete_cmd_prefix": "rm(",
     "library": "var_list.r",
     "varRefreshCmd": "cat(var_dic_list()) "
    }
   },
   "types_to_exclude": [
    "module",
    "function",
    "builtin_function_or_method",
    "instance",
    "_Feature"
   ],
   "window_display": false
  }
 },
 "nbformat": 4,
 "nbformat_minor": 5
}
