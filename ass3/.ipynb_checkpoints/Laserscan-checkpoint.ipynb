{
 "cells": [
  {
   "cell_type": "code",
   "execution_count": 13,
   "id": "0825ab8a",
   "metadata": {
    "ExecuteTime": {
     "end_time": "2022-05-17T20:53:20.510333Z",
     "start_time": "2022-05-17T20:53:20.462392Z"
    }
   },
   "outputs": [],
   "source": [
    "%matplotlib widget\n",
    "import ipywidgets as widgets\n",
    "from IPython.display import clear_output\n",
    "import jupyros as jr\n",
    "import rospy\n",
    "from std_msgs.msg import String\n",
    "from a3_code.srv import Coordinate_xy    #used in case 1\n",
    "from IPython.display import display\n",
    "from geometry_msgs.msg import Twist, Vector3    #for cmd_vel topic\n",
    "from jupyros import ros3d\n",
    "import os\n",
    "import matplotlib.pyplot as plt\n",
    "import tf\n",
    "from nav_msgs.msg import Odometry\n",
    "from sensor_msgs.msg import LaserScan\n",
    "from tf.transformations import quaternion_matrix\n",
    "import numpy as np\n",
    "from matplotlib.animation import FuncAnimation"
   ]
  },
  {
   "cell_type": "code",
   "execution_count": 14,
   "id": "5cea8a5b",
   "metadata": {
    "ExecuteTime": {
     "end_time": "2022-05-17T20:53:21.045535Z",
     "start_time": "2022-05-17T20:53:21.027372Z"
    }
   },
   "outputs": [],
   "source": [
    "class Visualiser:\n",
    "    def __init__(self):\n",
    "        self.fig, self.ax = plt.subplots()\n",
    "        self.ln, = plt.plot([], [], 'ro')\n",
    "        self.x_data, self.y_data = [] , []\n",
    "    \n",
    "    def plot_init(self):\n",
    "        self.ax.set_xlim(-10, 10)\n",
    "        self.ax.set_ylim(-10, 10)\n",
    "        return self.ln\n",
    "    \n",
    "    def odom_callback(self, msg):\n",
    "        print(vis.x_data,vis.y_data)\n",
    "        increment = (msg.angle_max - msg.angle_min)/len(msg.intensities) \n",
    "        \n",
    "        #convert laserscan message in pointcloud (x and y coordinates)\n",
    "        for i in range(len(msg.ranges)):\n",
    "            x = msg.ranges[i]*np.cos(msg.angle_min + increment*i)\n",
    "            y = msg.ranges[i]*np.sin(msg.angle_min + increment*i)\n",
    "            self.y_data.append(y)\n",
    "            self.x_data.append(x)\n",
    "        \n",
    "    def update_plot(self, frame):\n",
    "        self.ln.set_data(self.x_data, self.y_data)\n",
    "        \n",
    "        return self.ln"
   ]
  },
  {
   "cell_type": "code",
   "execution_count": 15,
   "id": "f92c967c",
   "metadata": {
    "ExecuteTime": {
     "end_time": "2022-05-17T20:53:21.780081Z",
     "start_time": "2022-05-17T20:53:21.772918Z"
    }
   },
   "outputs": [],
   "source": [
    "rospy.init_node('jupyter_user_interface')"
   ]
  },
  {
   "cell_type": "code",
   "execution_count": 17,
   "id": "23c65b9a",
   "metadata": {
    "ExecuteTime": {
     "end_time": "2022-05-17T20:54:15.860065Z",
     "start_time": "2022-05-17T20:54:15.696113Z"
    }
   },
   "outputs": [
    {
     "data": {
      "application/vnd.jupyter.widget-view+json": {
       "model_id": "8b57eb33223241a6a7acfade1713d5c6",
       "version_major": 2,
       "version_minor": 0
      },
      "text/plain": [
       "Canvas(toolbar=Toolbar(toolitems=[('Home', 'Reset original view', 'home', 'home'), ('Back', 'Back to previous …"
      ]
     },
     "metadata": {},
     "output_type": "display_data"
    }
   ],
   "source": [
    "vis = Visualiser()\n",
    "rospy.Subscriber('/scan', LaserScan, vis.odom_callback)\n",
    "ani = FuncAnimation(vis.fig, vis.update_plot, init_func=vis.plot_init)\n",
    "\n",
    "#plot labeling\n",
    "plt.xlabel(\"x\")\n",
    "plt.ylabel(\"y\")\n",
    "plt.title(\"LaserScan view\")\n",
    "plt.show(block=True)"
   ]
  },
  {
   "cell_type": "code",
   "execution_count": null,
   "id": "acd3bab5",
   "metadata": {},
   "outputs": [],
   "source": []
  }
 ],
 "metadata": {
  "hide_input": false,
  "kernelspec": {
   "display_name": "Python 3 (ipykernel)",
   "language": "python",
   "name": "python3"
  },
  "language_info": {
   "codemirror_mode": {
    "name": "ipython",
    "version": 3
   },
   "file_extension": ".py",
   "mimetype": "text/x-python",
   "name": "python",
   "nbconvert_exporter": "python",
   "pygments_lexer": "ipython3",
   "version": "3.8.10"
  },
  "toc": {
   "base_numbering": 1,
   "nav_menu": {},
   "number_sections": true,
   "sideBar": true,
   "skip_h1_title": false,
   "title_cell": "Table of Contents",
   "title_sidebar": "Contents",
   "toc_cell": false,
   "toc_position": {},
   "toc_section_display": true,
   "toc_window_display": false
  },
  "varInspector": {
   "cols": {
    "lenName": 16,
    "lenType": 16,
    "lenVar": 40
   },
   "kernels_config": {
    "python": {
     "delete_cmd_postfix": "",
     "delete_cmd_prefix": "del ",
     "library": "var_list.py",
     "varRefreshCmd": "print(var_dic_list())"
    },
    "r": {
     "delete_cmd_postfix": ") ",
     "delete_cmd_prefix": "rm(",
     "library": "var_list.r",
     "varRefreshCmd": "cat(var_dic_list()) "
    }
   },
   "types_to_exclude": [
    "module",
    "function",
    "builtin_function_or_method",
    "instance",
    "_Feature"
   ],
   "window_display": false
  }
 },
 "nbformat": 4,
 "nbformat_minor": 5
}
