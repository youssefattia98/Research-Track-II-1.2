{
 "cells": [
  {
   "cell_type": "code",
   "execution_count": 1,
   "id": "1a79c3be",
   "metadata": {
    "ExecuteTime": {
     "end_time": "2022-05-18T18:24:16.347938Z",
     "start_time": "2022-05-18T18:24:14.056636Z"
    }
   },
   "outputs": [],
   "source": [
    "%matplotlib widget\n",
    "import ipywidgets as widgets\n",
    "from IPython.display import clear_output\n",
    "import jupyros as jr\n",
    "import rospy\n",
    "import os\n",
    "from std_msgs.msg import String\n",
    "from ass3.srv import Cordinates_srv    #used in case 1\n",
    "from IPython.display import display\n",
    "from geometry_msgs.msg import Twist, Vector3    #for cmd_vel topic\n",
    "from jupyros import ros3d\n",
    "import matplotlib.pyplot as plt\n",
    "import tf\n",
    "from nav_msgs.msg import Odometry\n",
    "from sensor_msgs.msg import LaserScan\n",
    "from tf.transformations import quaternion_matrix\n",
    "import numpy as np\n",
    "from matplotlib.animation import FuncAnimation\n",
    "rospy.init_node('jupyter_user_interface')\n",
    "\n",
    "task = []"
   ]
  },
  {
   "cell_type": "code",
   "execution_count": 2,
   "id": "e69ebcf5",
   "metadata": {
    "ExecuteTime": {
     "end_time": "2022-05-18T18:24:16.709420Z",
     "start_time": "2022-05-18T18:24:16.408543Z"
    }
   },
   "outputs": [],
   "source": [
    "#This cell has all the widgets\n",
    "choice = widgets.Dropdown(\n",
    "    options=['0','1', '2', '3'],\n",
    "    value='0',\n",
    "    description='Number:',\n",
    ")\n",
    "\n",
    "box_x = widgets.FloatText(\n",
    "        value=-3.0,\n",
    "        description='x:',\n",
    ")\n",
    "\n",
    "box_y = widgets.FloatText(\n",
    "        value=5,\n",
    "        description='Y:',\n",
    ")\n",
    "\n",
    "buttonUP = widgets.Button(\n",
    "    icon=\"arrow-up\"\n",
    ")\n",
    "\n",
    "buttonDOWN = widgets.Button(\n",
    "    icon=\"arrow-down\"\n",
    ")\n",
    "\n",
    "buttonLEFT = widgets.Button(\n",
    "    icon=\"arrow-left\"\n",
    ")\n",
    "\n",
    "buttonRIGHT = widgets.Button(\n",
    "    icon=\"arrow-right\"\n",
    ")\n",
    "\n",
    "buttonSTOP = widgets.Button(\n",
    "    icon=\"stop\"\n",
    ")\n",
    "\n",
    "buttonempty = widgets.Button(\n",
    "    icon=\"\"\n",
    ")\n",
    "\n",
    "arrow_box = widgets.HBox(\n",
    "    [widgets.VBox([buttonempty,  buttonLEFT,  buttonempty]),\n",
    "    widgets.VBox( [buttonUP,     buttonSTOP, buttonDOWN]),\n",
    "    widgets.VBox( [buttonempty, buttonRIGHT, buttonempty])]\n",
    ")\n",
    "buttonenter = widgets.Button(\n",
    "    description='Enter'\n",
    ")\n",
    "buttonenter2 = widgets.Button(\n",
    "    description='Enter'\n",
    ")"
   ]
  },
  {
   "cell_type": "code",
   "execution_count": 3,
   "id": "e2e64fc0",
   "metadata": {
    "ExecuteTime": {
     "end_time": "2022-05-18T18:24:19.343248Z",
     "start_time": "2022-05-18T18:24:19.327138Z"
    }
   },
   "outputs": [],
   "source": [
    "def sendtraget(b):\n",
    "    print(\"Waiting for ROS!\")\n",
    "    rospy.wait_for_service('cordinates_srv')\n",
    "    print(\"Values Sent!\")\n",
    "    cordinates_srv = rospy.ServiceProxy('cordinates_srv', Cordinates_srv)\n",
    "    rt = cordinates_srv(box_x.value , box_y.value)\n",
    "    if rt.return_ == 1:\n",
    "        print(\"Target reached successfully!\")\n",
    "        task.append('Reached %')\n",
    "    else:\n",
    "        print(\"Target not reached\")\n",
    "        task.append('Not Reached %')\n",
    "    \n",
    "def case1():\n",
    "    print(\"Please Enter x and y coordinates:\")\n",
    "    display(box_x)\n",
    "    display(box_y)\n",
    "    display(buttonenter)\n",
    "    buttonenter.on_click(sendtraget)"
   ]
  },
  {
   "cell_type": "code",
   "execution_count": 4,
   "id": "0919c857",
   "metadata": {
    "ExecuteTime": {
     "end_time": "2022-05-18T18:24:20.424033Z",
     "start_time": "2022-05-18T18:24:20.397801Z"
    }
   },
   "outputs": [],
   "source": [
    "def on_button_clicked_UP(b):\n",
    "    moveingfn(1)\n",
    "def on_button_clicked_LEFT(b):\n",
    "    moveingfn(2)\n",
    "def on_button_clicked_RIGHT(b):\n",
    "    moveingfn(3)\n",
    "def on_button_clicked_DOWN(b):\n",
    "    moveingfn(4)\n",
    "def on_button_clicked_STOP(b):\n",
    "    moveingfn(5)\n",
    "\n",
    "def moveingfn(direction):\n",
    "    \n",
    "    init = Vector3(0, 0, 0)\n",
    "    vel = Twist( init, init)\n",
    "    \n",
    "    if direction == 1:\n",
    "        #Front direction\n",
    "        vel.linear.x = 0.5\n",
    "        vel.angular.z = 0.0\n",
    "    elif direction == 2:\n",
    "        #Left direction\n",
    "        vel.linear.x = 0.0\n",
    "        vel.angular.z = 0.5\n",
    "    elif direction == 3:\n",
    "        #Right direction\n",
    "        vel.linear.x = 0.0\n",
    "        vel.angular.z = -0.5\n",
    "    elif direction == 4:\n",
    "        #Back direction\n",
    "        vel.linear.x = -0.5\n",
    "        vel.angular.z = -0.0\n",
    "    elif direction ==5:\n",
    "        #stop\n",
    "        vel.linear.x = -0.0\n",
    "        vel.angular.z = -0.0\n",
    "        \n",
    "    pub = rospy.Publisher('remap_cmd_vel',Twist, queue_size=10)\n",
    "    pub.publish(vel)"
   ]
  },
  {
   "cell_type": "code",
   "execution_count": 5,
   "id": "b9673d84",
   "metadata": {
    "ExecuteTime": {
     "end_time": "2022-05-18T18:24:21.986397Z",
     "start_time": "2022-05-18T18:24:21.975996Z"
    }
   },
   "outputs": [],
   "source": [
    "def case2():\n",
    "    display(arrow_box)\n",
    "    buttonUP.on_click(on_button_clicked_UP)\n",
    "    buttonDOWN.on_click(on_button_clicked_DOWN)\n",
    "    buttonLEFT.on_click(on_button_clicked_LEFT)\n",
    "    buttonRIGHT.on_click(on_button_clicked_RIGHT)\n",
    "    buttonSTOP.on_click(on_button_clicked_STOP)"
   ]
  },
  {
   "cell_type": "code",
   "execution_count": 8,
   "id": "39c15a04",
   "metadata": {
    "ExecuteTime": {
     "end_time": "2022-05-18T18:18:58.361269Z",
     "start_time": "2022-05-18T18:18:58.216512Z"
    }
   },
   "outputs": [
    {
     "data": {
      "application/vnd.jupyter.widget-view+json": {
       "model_id": "a671b95cf82042c6b0c585fb3edf116e",
       "version_major": 2,
       "version_minor": 0
      },
      "text/plain": [
       "Canvas(toolbar=Toolbar(toolitems=[('Home', 'Reset original view', 'home', 'home'), ('Back', 'Back to previous …"
      ]
     },
     "metadata": {},
     "output_type": "display_data"
    }
   ],
   "source": [
    "class robotposion:\n",
    "    index = 0\n",
    "    def __init__(self):\n",
    "        self.fig, self.ax = plt.subplots()\n",
    "        self.ln, = plt.plot([], [], 'g>')\n",
    "        self.x_data, self.y_data = [] , []\n",
    "    def plot_init(self):\n",
    "        self.ax.set_xlim( -10, 10)\n",
    "        self.ax.set_ylim( -10, 10)\n",
    "        return self.ln\n",
    "    def odom_callback(self, msg):\n",
    "        self.index = self.index+1\n",
    "        if self.index == 250:\n",
    "            if len(self.y_data) < 500:\n",
    "                self.y_data.append(msg.pose.pose.position.y)\n",
    "            else:\n",
    "                self.y_data.pop(0)\n",
    "                self.y_data.append(msg.pose.pose.position.y)\n",
    "\n",
    "            if len(self.x_data) < 500:\n",
    "                self.x_data.append(msg.pose.pose.position.x)\n",
    "            else:\n",
    "                self.x_data.pop(0)\n",
    "                self.x_data.append(msg.pose.pose.position.x)\n",
    "            self.index = 0\n",
    "    def update_plot(self, frame1):\n",
    "        self.ln.set_data(self.x_data, self.y_data)\n",
    "        return self.ln\n",
    "vispos = robotposion()\n",
    "rospy.Subscriber('/odom', Odometry, vispos.odom_callback)\n",
    "ani1 = FuncAnimation(vispos.fig, vispos.update_plot, init_func=vispos.plot_init, blit=True)\n",
    "plt.title(\"Robot Motion\")\n",
    "plt.show(block=True)"
   ]
  },
  {
   "cell_type": "code",
   "execution_count": 6,
   "id": "8206f99f",
   "metadata": {
    "ExecuteTime": {
     "end_time": "2022-05-18T18:24:26.712880Z",
     "start_time": "2022-05-18T18:24:26.568332Z"
    }
   },
   "outputs": [
    {
     "data": {
      "application/vnd.jupyter.widget-view+json": {
       "model_id": "7c0bfb182884458ca9c525a38da0e584",
       "version_major": 2,
       "version_minor": 0
      },
      "text/plain": [
       "Canvas(toolbar=Toolbar(toolitems=[('Home', 'Reset original view', 'home', 'home'), ('Back', 'Back to previous …"
      ]
     },
     "metadata": {},
     "output_type": "display_data"
    }
   ],
   "source": [
    "class robotlaser:\n",
    "    def __init__(self):\n",
    "        self.fig, self.ax = plt.subplots()\n",
    "        self.ln, = plt.plot([], [], 'bo')\n",
    "        self.x_data, self.y_data = [] , []\n",
    "    def plot_init(self):\n",
    "        self.ax.set_xlim(-10, 10)\n",
    "        self.ax.set_ylim(-10, 10)\n",
    "        return self.ln\n",
    "    def laser_callback(self, msg):\n",
    "        print(vislas.x_data,vislas.y_data)\n",
    "        increment = (msg.angle_max - msg.angle_min)/len(msg.intensities) \n",
    "        for i in range(len(msg.ranges)):\n",
    "            x = msg.ranges[i]*np.cos(msg.angle_min + increment*i)\n",
    "            y = msg.ranges[i]*np.sin(msg.angle_min + increment*i)\n",
    "            self.y_data.append(y)\n",
    "            self.x_data.append(x)\n",
    "    def update_plot(self, frame2):\n",
    "        self.ln.set_data(self.x_data, self.y_data)\n",
    "        return self.ln\n",
    "vislas = robotlaser()\n",
    "rospy.Subscriber('/scan', LaserScan, vislas.laser_callback)\n",
    "ani2 = FuncAnimation(vislas.fig, vislas.update_plot, init_func=vislas.plot_init)\n",
    "plt.title(\"Laser Vision\")\n",
    "plt.show(block=True)"
   ]
  },
  {
   "cell_type": "code",
   "execution_count": 6,
   "id": "6b923afc",
   "metadata": {
    "ExecuteTime": {
     "end_time": "2022-05-18T18:14:39.254595Z",
     "start_time": "2022-05-18T18:14:39.030238Z"
    }
   },
   "outputs": [
    {
     "data": {
      "application/vnd.jupyter.widget-view+json": {
       "model_id": "8ccced333d9348d586c246915b3a5b25",
       "version_major": 2,
       "version_minor": 0
      },
      "text/plain": [
       "Canvas(toolbar=Toolbar(toolitems=[('Home', 'Reset original view', 'home', 'home'), ('Back', 'Back to previous …"
      ]
     },
     "metadata": {},
     "output_type": "display_data"
    },
    {
     "data": {
      "text/plain": [
       "Text(0.5, 1.0, 'Tragets Reached')"
      ]
     },
     "execution_count": 6,
     "metadata": {},
     "output_type": "execute_result"
    }
   ],
   "source": [
    "fig, ax = plt.subplots()\n",
    "_, _, ln, = ax.hist([])\n",
    "def init():\n",
    "    return ln,\n",
    "def update(sth):\n",
    "    ax.hist(task, bins=3, color='blue')\n",
    "    return ln,\n",
    "ani3 = FuncAnimation(fig, update, init_func=init, blit=True)\n",
    "plt.show()\n",
    "plt.title(\"Tragets Reached\")"
   ]
  },
  {
   "cell_type": "code",
   "execution_count": 9,
   "id": "b6e5d664",
   "metadata": {
    "ExecuteTime": {
     "end_time": "2022-05-18T18:19:52.151058Z",
     "start_time": "2022-05-18T18:19:51.971535Z"
    }
   },
   "outputs": [
    {
     "data": {
      "application/vnd.jupyter.widget-view+json": {
       "model_id": "ece9d9fff6dd423ba40276e9bfad7620",
       "version_major": 2,
       "version_minor": 0
      },
      "text/plain": [
       "Viewer(objects=[LaserScan(ros=ROSConnection(url='ws://localhost:9090'), tf_client=TFClient(fixed_frame='link_c…"
      ]
     },
     "metadata": {},
     "output_type": "display_data"
    }
   ],
   "source": [
    "v = ros3d.Viewer()\n",
    "rc = ros3d.ROSConnection(url=\"ws://localhost:9090\")\n",
    "tf_client = ros3d.TFClient(ros=rc, fixed_frame='link_chassis')\n",
    "laser_view = ros3d.LaserScan(topic=\"/scan\", ros=rc, tf_client=tf_client)\n",
    "map_view = ros3d.OccupancyGrid(topic=\"/map\", ros=rc, tf_client=tf_client)\n",
    "path = ros3d.Path(topic=\"/move_base/NavfnROS/plan\", ros=rc, \n",
    "tf_client=tf_client)\n",
    "urdf = ros3d.URDFModel(ros=rc, tf_client=tf_client, \n",
    "path=os.environ.get('JUPYROS_ASSETS_URL', 'http://localhost:3000'))\n",
    "v.objects = [laser_view, map_view, path, urdf]\n",
    "v"
   ]
  },
  {
   "cell_type": "code",
   "execution_count": null,
   "id": "f6f9df9e",
   "metadata": {
    "ExecuteTime": {
     "start_time": "2022-05-18T18:24:34.555Z"
    }
   },
   "outputs": [],
   "source": [
    "#This cell is for the main interface\n",
    "def startprogram(b):\n",
    "    clear_output()\n",
    "    print(\"Please enter your choice:\")\n",
    "    print(\"1) autonomously reach a x,y coordinate provided by the user\")\n",
    "    print(\"2) drive the robot using the keyboard\")\n",
    "    print(\"3) drive the robot using the keyboard with collisions avoidance\")\n",
    "    display(choice)\n",
    "    display(buttonenter2)\n",
    "    buttonenter2.on_click(startprogram)\n",
    "    print(\"your choice is:\")\n",
    "    if (choice.value == '1'):\n",
    "        #case one\n",
    "        print(\"Case one\")\n",
    "        case1()\n",
    "    elif (choice.value == '2'):\n",
    "        #case two\n",
    "        print(\"Case two\")\n",
    "        rospy.set_param(\"/obstacle_avoidance\", 0)\n",
    "        case2()\n",
    "    elif (choice.value == '3'):\n",
    "        #case three\n",
    "        print(\"Case Three\")\n",
    "        rospy.set_param(\"/obstacle_avoidance\", 1)\n",
    "        case2()\n",
    "    \n",
    "print(\"Please enter your choice:\")\n",
    "print(\"1) autonomously reach a x,y coordinate provided by the user\")\n",
    "print(\"2) drive the robot using the keyboard\")\n",
    "print(\"3) drive the robot using the keyboard with collisions avoidance\")\n",
    "display(choice)\n",
    "display(buttonenter2)\n",
    "buttonenter2.on_click(startprogram)"
   ]
  },
  {
   "cell_type": "code",
   "execution_count": null,
   "id": "d2d32413",
   "metadata": {},
   "outputs": [],
   "source": []
  }
 ],
 "metadata": {
  "hide_input": false,
  "kernelspec": {
   "display_name": "Python 3 (ipykernel)",
   "language": "python",
   "name": "python3"
  },
  "language_info": {
   "codemirror_mode": {
    "name": "ipython",
    "version": 3
   },
   "file_extension": ".py",
   "mimetype": "text/x-python",
   "name": "python",
   "nbconvert_exporter": "python",
   "pygments_lexer": "ipython3",
   "version": "3.8.10"
  },
  "toc": {
   "base_numbering": 1,
   "nav_menu": {},
   "number_sections": true,
   "sideBar": true,
   "skip_h1_title": false,
   "title_cell": "Table of Contents",
   "title_sidebar": "Contents",
   "toc_cell": false,
   "toc_position": {},
   "toc_section_display": true,
   "toc_window_display": false
  },
  "varInspector": {
   "cols": {
    "lenName": 16,
    "lenType": 16,
    "lenVar": 40
   },
   "kernels_config": {
    "python": {
     "delete_cmd_postfix": "",
     "delete_cmd_prefix": "del ",
     "library": "var_list.py",
     "varRefreshCmd": "print(var_dic_list())"
    },
    "r": {
     "delete_cmd_postfix": ") ",
     "delete_cmd_prefix": "rm(",
     "library": "var_list.r",
     "varRefreshCmd": "cat(var_dic_list()) "
    }
   },
   "types_to_exclude": [
    "module",
    "function",
    "builtin_function_or_method",
    "instance",
    "_Feature"
   ],
   "window_display": false
  }
 },
 "nbformat": 4,
 "nbformat_minor": 5
}
